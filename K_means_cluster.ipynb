{
 "cells": [
  {
   "cell_type": "markdown",
   "metadata": {},
   "source": [
    "#  Whisky Flavours"
   ]
  },
  {
   "cell_type": "markdown",
   "metadata": {},
   "source": [
    "![title](whisky.jpg)"
   ]
  },
  {
   "cell_type": "markdown",
   "metadata": {},
   "source": [
    "*For this task, you will need the following Python packages:*\n",
    "\n",
    "    - pandas\n",
    "    - NumPy\n",
    "    - scikit-learn\n",
    "    - Seaborn \n",
    "    - Matplotlib."
   ]
  },
  {
   "cell_type": "code",
   "execution_count": 1,
   "metadata": {},
   "outputs": [],
   "source": [
    "import pandas as pd\n",
    "import numpy as np\n",
    "from sklearn.cluster import KMeans\n",
    "from sklearn.preprocessing import LabelEncoder\n",
    "from sklearn.preprocessing import MinMaxScaler\n",
    "import seaborn as sns\n",
    "import matplotlib.pyplot as plt\n",
    "%matplotlib inline"
   ]
  },
  {
   "cell_type": "markdown",
   "metadata": {},
   "source": [
    "## Load the dataset."
   ]
  },
  {
   "cell_type": "code",
   "execution_count": 2,
   "metadata": {},
   "outputs": [],
   "source": [
    "df = pd.read_csv('whisky.csv')"
   ]
  },
  {
   "cell_type": "markdown",
   "metadata": {},
   "source": [
    "### Preview the kind of data you will be working with by printing some samples from the DataFrame."
   ]
  },
  {
   "cell_type": "code",
   "execution_count": 3,
   "metadata": {},
   "outputs": [
    {
     "data": {
      "text/html": [
       "<div>\n",
       "<style scoped>\n",
       "    .dataframe tbody tr th:only-of-type {\n",
       "        vertical-align: middle;\n",
       "    }\n",
       "\n",
       "    .dataframe tbody tr th {\n",
       "        vertical-align: top;\n",
       "    }\n",
       "\n",
       "    .dataframe thead th {\n",
       "        text-align: right;\n",
       "    }\n",
       "</style>\n",
       "<table border=\"1\" class=\"dataframe\">\n",
       "  <thead>\n",
       "    <tr style=\"text-align: right;\">\n",
       "      <th></th>\n",
       "      <th>RowID</th>\n",
       "      <th>Distillery</th>\n",
       "      <th>Body</th>\n",
       "      <th>Sweetness</th>\n",
       "      <th>Smoky</th>\n",
       "      <th>Medicinal</th>\n",
       "      <th>Tobacco</th>\n",
       "      <th>Honey</th>\n",
       "      <th>Spicy</th>\n",
       "      <th>Winey</th>\n",
       "      <th>Nutty</th>\n",
       "      <th>Malty</th>\n",
       "      <th>Fruity</th>\n",
       "      <th>Floral</th>\n",
       "      <th>Postcode</th>\n",
       "      <th>Latitude</th>\n",
       "      <th>Longitude</th>\n",
       "    </tr>\n",
       "  </thead>\n",
       "  <tbody>\n",
       "    <tr>\n",
       "      <td>0</td>\n",
       "      <td>1</td>\n",
       "      <td>Aberfeldy</td>\n",
       "      <td>2</td>\n",
       "      <td>2</td>\n",
       "      <td>2</td>\n",
       "      <td>0</td>\n",
       "      <td>0</td>\n",
       "      <td>2</td>\n",
       "      <td>1</td>\n",
       "      <td>2</td>\n",
       "      <td>2</td>\n",
       "      <td>2</td>\n",
       "      <td>2</td>\n",
       "      <td>2</td>\n",
       "      <td>\\tPH15 2EB</td>\n",
       "      <td>286580</td>\n",
       "      <td>749680</td>\n",
       "    </tr>\n",
       "    <tr>\n",
       "      <td>1</td>\n",
       "      <td>2</td>\n",
       "      <td>Aberlour</td>\n",
       "      <td>3</td>\n",
       "      <td>3</td>\n",
       "      <td>1</td>\n",
       "      <td>0</td>\n",
       "      <td>0</td>\n",
       "      <td>4</td>\n",
       "      <td>3</td>\n",
       "      <td>2</td>\n",
       "      <td>2</td>\n",
       "      <td>3</td>\n",
       "      <td>3</td>\n",
       "      <td>2</td>\n",
       "      <td>\\tAB38 9PJ</td>\n",
       "      <td>326340</td>\n",
       "      <td>842570</td>\n",
       "    </tr>\n",
       "    <tr>\n",
       "      <td>2</td>\n",
       "      <td>3</td>\n",
       "      <td>AnCnoc</td>\n",
       "      <td>1</td>\n",
       "      <td>3</td>\n",
       "      <td>2</td>\n",
       "      <td>0</td>\n",
       "      <td>0</td>\n",
       "      <td>2</td>\n",
       "      <td>0</td>\n",
       "      <td>0</td>\n",
       "      <td>2</td>\n",
       "      <td>2</td>\n",
       "      <td>3</td>\n",
       "      <td>2</td>\n",
       "      <td>\\tAB5 5LI</td>\n",
       "      <td>352960</td>\n",
       "      <td>839320</td>\n",
       "    </tr>\n",
       "    <tr>\n",
       "      <td>3</td>\n",
       "      <td>4</td>\n",
       "      <td>Ardbeg</td>\n",
       "      <td>4</td>\n",
       "      <td>1</td>\n",
       "      <td>4</td>\n",
       "      <td>4</td>\n",
       "      <td>0</td>\n",
       "      <td>0</td>\n",
       "      <td>2</td>\n",
       "      <td>0</td>\n",
       "      <td>1</td>\n",
       "      <td>2</td>\n",
       "      <td>1</td>\n",
       "      <td>0</td>\n",
       "      <td>\\tPA42 7EB</td>\n",
       "      <td>141560</td>\n",
       "      <td>646220</td>\n",
       "    </tr>\n",
       "    <tr>\n",
       "      <td>4</td>\n",
       "      <td>5</td>\n",
       "      <td>Ardmore</td>\n",
       "      <td>2</td>\n",
       "      <td>2</td>\n",
       "      <td>2</td>\n",
       "      <td>0</td>\n",
       "      <td>0</td>\n",
       "      <td>1</td>\n",
       "      <td>1</td>\n",
       "      <td>1</td>\n",
       "      <td>2</td>\n",
       "      <td>3</td>\n",
       "      <td>1</td>\n",
       "      <td>1</td>\n",
       "      <td>\\tAB54 4NH</td>\n",
       "      <td>355350</td>\n",
       "      <td>829140</td>\n",
       "    </tr>\n",
       "  </tbody>\n",
       "</table>\n",
       "</div>"
      ],
      "text/plain": [
       "   RowID Distillery  Body  Sweetness  Smoky  Medicinal  Tobacco  Honey  Spicy  \\\n",
       "0      1  Aberfeldy     2          2      2          0        0      2      1   \n",
       "1      2   Aberlour     3          3      1          0        0      4      3   \n",
       "2      3     AnCnoc     1          3      2          0        0      2      0   \n",
       "3      4     Ardbeg     4          1      4          4        0      0      2   \n",
       "4      5    Ardmore     2          2      2          0        0      1      1   \n",
       "\n",
       "   Winey  Nutty  Malty  Fruity  Floral    Postcode  Latitude  Longitude  \n",
       "0      2      2      2       2       2  \\tPH15 2EB    286580     749680  \n",
       "1      2      2      3       3       2  \\tAB38 9PJ    326340     842570  \n",
       "2      0      2      2       3       2   \\tAB5 5LI    352960     839320  \n",
       "3      0      1      2       1       0  \\tPA42 7EB    141560     646220  \n",
       "4      1      2      3       1       1  \\tAB54 4NH    355350     829140  "
      ]
     },
     "execution_count": 3,
     "metadata": {},
     "output_type": "execute_result"
    }
   ],
   "source": [
    "df.head()"
   ]
  },
  {
   "cell_type": "markdown",
   "metadata": {},
   "source": [
    "### Get some initial statistics"
   ]
  },
  {
   "cell_type": "code",
   "execution_count": 4,
   "metadata": {},
   "outputs": [
    {
     "data": {
      "text/html": [
       "<div>\n",
       "<style scoped>\n",
       "    .dataframe tbody tr th:only-of-type {\n",
       "        vertical-align: middle;\n",
       "    }\n",
       "\n",
       "    .dataframe tbody tr th {\n",
       "        vertical-align: top;\n",
       "    }\n",
       "\n",
       "    .dataframe thead th {\n",
       "        text-align: right;\n",
       "    }\n",
       "</style>\n",
       "<table border=\"1\" class=\"dataframe\">\n",
       "  <thead>\n",
       "    <tr style=\"text-align: right;\">\n",
       "      <th></th>\n",
       "      <th>RowID</th>\n",
       "      <th>Body</th>\n",
       "      <th>Sweetness</th>\n",
       "      <th>Smoky</th>\n",
       "      <th>Medicinal</th>\n",
       "      <th>Tobacco</th>\n",
       "      <th>Honey</th>\n",
       "      <th>Spicy</th>\n",
       "      <th>Winey</th>\n",
       "      <th>Nutty</th>\n",
       "      <th>Malty</th>\n",
       "      <th>Fruity</th>\n",
       "      <th>Floral</th>\n",
       "      <th>Latitude</th>\n",
       "      <th>Longitude</th>\n",
       "    </tr>\n",
       "  </thead>\n",
       "  <tbody>\n",
       "    <tr>\n",
       "      <td>count</td>\n",
       "      <td>86.000000</td>\n",
       "      <td>86.000000</td>\n",
       "      <td>86.000000</td>\n",
       "      <td>86.000000</td>\n",
       "      <td>86.000000</td>\n",
       "      <td>86.000000</td>\n",
       "      <td>86.000000</td>\n",
       "      <td>86.000000</td>\n",
       "      <td>86.000000</td>\n",
       "      <td>86.000000</td>\n",
       "      <td>86.000000</td>\n",
       "      <td>86.000000</td>\n",
       "      <td>86.000000</td>\n",
       "      <td>86.000000</td>\n",
       "      <td>8.600000e+01</td>\n",
       "    </tr>\n",
       "    <tr>\n",
       "      <td>mean</td>\n",
       "      <td>43.500000</td>\n",
       "      <td>2.069767</td>\n",
       "      <td>2.290698</td>\n",
       "      <td>1.534884</td>\n",
       "      <td>0.546512</td>\n",
       "      <td>0.116279</td>\n",
       "      <td>1.244186</td>\n",
       "      <td>1.383721</td>\n",
       "      <td>0.976744</td>\n",
       "      <td>1.465116</td>\n",
       "      <td>1.802326</td>\n",
       "      <td>1.802326</td>\n",
       "      <td>1.697674</td>\n",
       "      <td>287247.162791</td>\n",
       "      <td>8.026597e+05</td>\n",
       "    </tr>\n",
       "    <tr>\n",
       "      <td>std</td>\n",
       "      <td>24.969982</td>\n",
       "      <td>0.930410</td>\n",
       "      <td>0.717287</td>\n",
       "      <td>0.863613</td>\n",
       "      <td>0.990032</td>\n",
       "      <td>0.322439</td>\n",
       "      <td>0.853175</td>\n",
       "      <td>0.784686</td>\n",
       "      <td>0.932760</td>\n",
       "      <td>0.821730</td>\n",
       "      <td>0.629094</td>\n",
       "      <td>0.779438</td>\n",
       "      <td>0.855017</td>\n",
       "      <td>67889.046814</td>\n",
       "      <td>8.802422e+04</td>\n",
       "    </tr>\n",
       "    <tr>\n",
       "      <td>min</td>\n",
       "      <td>1.000000</td>\n",
       "      <td>0.000000</td>\n",
       "      <td>1.000000</td>\n",
       "      <td>0.000000</td>\n",
       "      <td>0.000000</td>\n",
       "      <td>0.000000</td>\n",
       "      <td>0.000000</td>\n",
       "      <td>0.000000</td>\n",
       "      <td>0.000000</td>\n",
       "      <td>0.000000</td>\n",
       "      <td>0.000000</td>\n",
       "      <td>0.000000</td>\n",
       "      <td>0.000000</td>\n",
       "      <td>126680.000000</td>\n",
       "      <td>5.542600e+05</td>\n",
       "    </tr>\n",
       "    <tr>\n",
       "      <td>25%</td>\n",
       "      <td>22.250000</td>\n",
       "      <td>2.000000</td>\n",
       "      <td>2.000000</td>\n",
       "      <td>1.000000</td>\n",
       "      <td>0.000000</td>\n",
       "      <td>0.000000</td>\n",
       "      <td>1.000000</td>\n",
       "      <td>1.000000</td>\n",
       "      <td>0.000000</td>\n",
       "      <td>1.000000</td>\n",
       "      <td>1.000000</td>\n",
       "      <td>1.000000</td>\n",
       "      <td>1.000000</td>\n",
       "      <td>265672.500000</td>\n",
       "      <td>7.556975e+05</td>\n",
       "    </tr>\n",
       "    <tr>\n",
       "      <td>50%</td>\n",
       "      <td>43.500000</td>\n",
       "      <td>2.000000</td>\n",
       "      <td>2.000000</td>\n",
       "      <td>1.000000</td>\n",
       "      <td>0.000000</td>\n",
       "      <td>0.000000</td>\n",
       "      <td>1.000000</td>\n",
       "      <td>1.000000</td>\n",
       "      <td>1.000000</td>\n",
       "      <td>2.000000</td>\n",
       "      <td>2.000000</td>\n",
       "      <td>2.000000</td>\n",
       "      <td>2.000000</td>\n",
       "      <td>319515.000000</td>\n",
       "      <td>8.398850e+05</td>\n",
       "    </tr>\n",
       "    <tr>\n",
       "      <td>75%</td>\n",
       "      <td>64.750000</td>\n",
       "      <td>2.000000</td>\n",
       "      <td>3.000000</td>\n",
       "      <td>2.000000</td>\n",
       "      <td>1.000000</td>\n",
       "      <td>0.000000</td>\n",
       "      <td>2.000000</td>\n",
       "      <td>2.000000</td>\n",
       "      <td>1.000000</td>\n",
       "      <td>2.000000</td>\n",
       "      <td>2.000000</td>\n",
       "      <td>2.000000</td>\n",
       "      <td>2.000000</td>\n",
       "      <td>328630.000000</td>\n",
       "      <td>8.507700e+05</td>\n",
       "    </tr>\n",
       "    <tr>\n",
       "      <td>max</td>\n",
       "      <td>86.000000</td>\n",
       "      <td>4.000000</td>\n",
       "      <td>4.000000</td>\n",
       "      <td>4.000000</td>\n",
       "      <td>4.000000</td>\n",
       "      <td>1.000000</td>\n",
       "      <td>4.000000</td>\n",
       "      <td>3.000000</td>\n",
       "      <td>4.000000</td>\n",
       "      <td>4.000000</td>\n",
       "      <td>3.000000</td>\n",
       "      <td>3.000000</td>\n",
       "      <td>4.000000</td>\n",
       "      <td>381020.000000</td>\n",
       "      <td>1.009260e+06</td>\n",
       "    </tr>\n",
       "  </tbody>\n",
       "</table>\n",
       "</div>"
      ],
      "text/plain": [
       "           RowID       Body  Sweetness      Smoky  Medicinal    Tobacco  \\\n",
       "count  86.000000  86.000000  86.000000  86.000000  86.000000  86.000000   \n",
       "mean   43.500000   2.069767   2.290698   1.534884   0.546512   0.116279   \n",
       "std    24.969982   0.930410   0.717287   0.863613   0.990032   0.322439   \n",
       "min     1.000000   0.000000   1.000000   0.000000   0.000000   0.000000   \n",
       "25%    22.250000   2.000000   2.000000   1.000000   0.000000   0.000000   \n",
       "50%    43.500000   2.000000   2.000000   1.000000   0.000000   0.000000   \n",
       "75%    64.750000   2.000000   3.000000   2.000000   1.000000   0.000000   \n",
       "max    86.000000   4.000000   4.000000   4.000000   4.000000   1.000000   \n",
       "\n",
       "           Honey      Spicy      Winey      Nutty      Malty     Fruity  \\\n",
       "count  86.000000  86.000000  86.000000  86.000000  86.000000  86.000000   \n",
       "mean    1.244186   1.383721   0.976744   1.465116   1.802326   1.802326   \n",
       "std     0.853175   0.784686   0.932760   0.821730   0.629094   0.779438   \n",
       "min     0.000000   0.000000   0.000000   0.000000   0.000000   0.000000   \n",
       "25%     1.000000   1.000000   0.000000   1.000000   1.000000   1.000000   \n",
       "50%     1.000000   1.000000   1.000000   2.000000   2.000000   2.000000   \n",
       "75%     2.000000   2.000000   1.000000   2.000000   2.000000   2.000000   \n",
       "max     4.000000   3.000000   4.000000   4.000000   3.000000   3.000000   \n",
       "\n",
       "          Floral       Latitude     Longitude  \n",
       "count  86.000000      86.000000  8.600000e+01  \n",
       "mean    1.697674  287247.162791  8.026597e+05  \n",
       "std     0.855017   67889.046814  8.802422e+04  \n",
       "min     0.000000  126680.000000  5.542600e+05  \n",
       "25%     1.000000  265672.500000  7.556975e+05  \n",
       "50%     2.000000  319515.000000  8.398850e+05  \n",
       "75%     2.000000  328630.000000  8.507700e+05  \n",
       "max     4.000000  381020.000000  1.009260e+06  "
      ]
     },
     "execution_count": 4,
     "metadata": {},
     "output_type": "execute_result"
    }
   ],
   "source": [
    "df.describe()"
   ]
  },
  {
   "cell_type": "markdown",
   "metadata": {},
   "source": [
    "From the above outputs you definitely got to know about the features of the dataset and some basic statistics of it. \n",
    "I will list the feature names for you:"
   ]
  },
  {
   "cell_type": "code",
   "execution_count": 5,
   "metadata": {},
   "outputs": [
    {
     "name": "stdout",
     "output_type": "stream",
     "text": [
      "['RowID' 'Distillery' 'Body' 'Sweetness' 'Smoky' 'Medicinal' 'Tobacco'\n",
      " 'Honey' 'Spicy' 'Winey' 'Nutty' 'Malty' 'Fruity' 'Floral' 'Postcode'\n",
      " 'Latitude' 'Longitude']\n"
     ]
    }
   ],
   "source": [
    "print(df.columns.values)"
   ]
  },
  {
   "cell_type": "markdown",
   "metadata": {},
   "source": [
    "It is very important to note that not all machine learning algorithms support missing values in the data that you are feeding to them. \n",
    "K-Means being one of them. So we need to handle the missing values present in the data. \n",
    "Let's first see where are the values missing:"
   ]
  },
  {
   "cell_type": "code",
   "execution_count": 6,
   "metadata": {},
   "outputs": [
    {
     "name": "stdout",
     "output_type": "stream",
     "text": [
      "RowID         0\n",
      "Distillery    0\n",
      "Body          0\n",
      "Sweetness     0\n",
      "Smoky         0\n",
      "Medicinal     0\n",
      "Tobacco       0\n",
      "Honey         0\n",
      "Spicy         0\n",
      "Winey         0\n",
      "Nutty         0\n",
      "Malty         0\n",
      "Fruity        0\n",
      "Floral        0\n",
      "Postcode      0\n",
      "Latitude      0\n",
      "Longitude     0\n",
      "dtype: int64\n"
     ]
    }
   ],
   "source": [
    "print(df.isnull().sum())"
   ]
  },
  {
   "cell_type": "markdown",
   "metadata": {},
   "source": [
    "*There are no missing values.Even by inspection!*"
   ]
  },
  {
   "cell_type": "markdown",
   "metadata": {},
   "source": [
    "Let's do some more analytics in order to understand the data better. \n",
    "Understanding is really required in order to perform any Machine Learning task. \n",
    "Let's start with finding out which features are categorical and which are numerical."
   ]
  },
  {
   "cell_type": "code",
   "execution_count": 7,
   "metadata": {},
   "outputs": [
    {
     "name": "stdout",
     "output_type": "stream",
     "text": [
      "<class 'pandas.core.frame.DataFrame'>\n",
      "RangeIndex: 86 entries, 0 to 85\n",
      "Data columns (total 17 columns):\n",
      "RowID         86 non-null int64\n",
      "Distillery    86 non-null object\n",
      "Body          86 non-null int64\n",
      "Sweetness     86 non-null int64\n",
      "Smoky         86 non-null int64\n",
      "Medicinal     86 non-null int64\n",
      "Tobacco       86 non-null int64\n",
      "Honey         86 non-null int64\n",
      "Spicy         86 non-null int64\n",
      "Winey         86 non-null int64\n",
      "Nutty         86 non-null int64\n",
      "Malty         86 non-null int64\n",
      "Fruity        86 non-null int64\n",
      "Floral        86 non-null int64\n",
      "Postcode      86 non-null object\n",
      "Latitude      86 non-null int64\n",
      "Longitude     86 non-null int64\n",
      "dtypes: int64(15), object(2)\n",
      "memory usage: 11.5+ KB\n"
     ]
    }
   ],
   "source": [
    "df.info()"
   ]
  },
  {
   "cell_type": "markdown",
   "metadata": {},
   "source": [
    "Let's see the Distillery count of wines with respect to the following features:\n"
   ]
  },
  {
   "cell_type": "code",
   "execution_count": 8,
   "metadata": {},
   "outputs": [
    {
     "data": {
      "text/html": [
       "<div>\n",
       "<style scoped>\n",
       "    .dataframe tbody tr th:only-of-type {\n",
       "        vertical-align: middle;\n",
       "    }\n",
       "\n",
       "    .dataframe tbody tr th {\n",
       "        vertical-align: top;\n",
       "    }\n",
       "\n",
       "    .dataframe thead th {\n",
       "        text-align: right;\n",
       "    }\n",
       "</style>\n",
       "<table border=\"1\" class=\"dataframe\">\n",
       "  <thead>\n",
       "    <tr style=\"text-align: right;\">\n",
       "      <th></th>\n",
       "      <th>Distillery</th>\n",
       "      <th>Body</th>\n",
       "    </tr>\n",
       "  </thead>\n",
       "  <tbody>\n",
       "    <tr>\n",
       "      <td>42</td>\n",
       "      <td>Glendronach</td>\n",
       "      <td>4</td>\n",
       "    </tr>\n",
       "    <tr>\n",
       "      <td>3</td>\n",
       "      <td>Ardbeg</td>\n",
       "      <td>4</td>\n",
       "    </tr>\n",
       "    <tr>\n",
       "      <td>57</td>\n",
       "      <td>Lagavulin</td>\n",
       "      <td>4</td>\n",
       "    </tr>\n",
       "    <tr>\n",
       "      <td>58</td>\n",
       "      <td>Laphroig</td>\n",
       "      <td>4</td>\n",
       "    </tr>\n",
       "    <tr>\n",
       "      <td>77</td>\n",
       "      <td>Talisker</td>\n",
       "      <td>4</td>\n",
       "    </tr>\n",
       "    <tr>\n",
       "      <td>...</td>\n",
       "      <td>...</td>\n",
       "      <td>...</td>\n",
       "    </tr>\n",
       "    <tr>\n",
       "      <td>47</td>\n",
       "      <td>Glenkinchie</td>\n",
       "      <td>1</td>\n",
       "    </tr>\n",
       "    <tr>\n",
       "      <td>46</td>\n",
       "      <td>Glengoyne</td>\n",
       "      <td>1</td>\n",
       "    </tr>\n",
       "    <tr>\n",
       "      <td>22</td>\n",
       "      <td>Cardhu</td>\n",
       "      <td>1</td>\n",
       "    </tr>\n",
       "    <tr>\n",
       "      <td>6</td>\n",
       "      <td>Auchentoshan</td>\n",
       "      <td>0</td>\n",
       "    </tr>\n",
       "    <tr>\n",
       "      <td>83</td>\n",
       "      <td>Tomintoul</td>\n",
       "      <td>0</td>\n",
       "    </tr>\n",
       "  </tbody>\n",
       "</table>\n",
       "<p>86 rows × 2 columns</p>\n",
       "</div>"
      ],
      "text/plain": [
       "      Distillery  Body\n",
       "42   Glendronach     4\n",
       "3         Ardbeg     4\n",
       "57     Lagavulin     4\n",
       "58      Laphroig     4\n",
       "77      Talisker     4\n",
       "..           ...   ...\n",
       "47   Glenkinchie     1\n",
       "46     Glengoyne     1\n",
       "22        Cardhu     1\n",
       "6   Auchentoshan     0\n",
       "83     Tomintoul     0\n",
       "\n",
       "[86 rows x 2 columns]"
      ]
     },
     "execution_count": 8,
     "metadata": {},
     "output_type": "execute_result"
    }
   ],
   "source": [
    "df[['Distillery', 'Body']].groupby(['Distillery'], as_index=False).mean().sort_values(by='Body', ascending=False)"
   ]
  },
  {
   "cell_type": "code",
   "execution_count": 9,
   "metadata": {},
   "outputs": [
    {
     "data": {
      "text/html": [
       "<div>\n",
       "<style scoped>\n",
       "    .dataframe tbody tr th:only-of-type {\n",
       "        vertical-align: middle;\n",
       "    }\n",
       "\n",
       "    .dataframe tbody tr th {\n",
       "        vertical-align: top;\n",
       "    }\n",
       "\n",
       "    .dataframe thead th {\n",
       "        text-align: right;\n",
       "    }\n",
       "</style>\n",
       "<table border=\"1\" class=\"dataframe\">\n",
       "  <thead>\n",
       "    <tr style=\"text-align: right;\">\n",
       "      <th></th>\n",
       "      <th>Distillery</th>\n",
       "      <th>Honey</th>\n",
       "    </tr>\n",
       "  </thead>\n",
       "  <tbody>\n",
       "    <tr>\n",
       "      <td>1</td>\n",
       "      <td>Aberlour</td>\n",
       "      <td>4</td>\n",
       "    </tr>\n",
       "    <tr>\n",
       "      <td>11</td>\n",
       "      <td>Belvenie</td>\n",
       "      <td>3</td>\n",
       "    </tr>\n",
       "    <tr>\n",
       "      <td>14</td>\n",
       "      <td>Benrinnes</td>\n",
       "      <td>3</td>\n",
       "    </tr>\n",
       "    <tr>\n",
       "      <td>0</td>\n",
       "      <td>Aberfeldy</td>\n",
       "      <td>2</td>\n",
       "    </tr>\n",
       "    <tr>\n",
       "      <td>62</td>\n",
       "      <td>Macallan</td>\n",
       "      <td>2</td>\n",
       "    </tr>\n",
       "    <tr>\n",
       "      <td>...</td>\n",
       "      <td>...</td>\n",
       "      <td>...</td>\n",
       "    </tr>\n",
       "    <tr>\n",
       "      <td>68</td>\n",
       "      <td>OldPulteney</td>\n",
       "      <td>0</td>\n",
       "    </tr>\n",
       "    <tr>\n",
       "      <td>40</td>\n",
       "      <td>GlenSpey</td>\n",
       "      <td>0</td>\n",
       "    </tr>\n",
       "    <tr>\n",
       "      <td>66</td>\n",
       "      <td>Oban</td>\n",
       "      <td>0</td>\n",
       "    </tr>\n",
       "    <tr>\n",
       "      <td>45</td>\n",
       "      <td>Glenfiddich</td>\n",
       "      <td>0</td>\n",
       "    </tr>\n",
       "    <tr>\n",
       "      <td>85</td>\n",
       "      <td>Tullibardine</td>\n",
       "      <td>0</td>\n",
       "    </tr>\n",
       "  </tbody>\n",
       "</table>\n",
       "<p>86 rows × 2 columns</p>\n",
       "</div>"
      ],
      "text/plain": [
       "      Distillery  Honey\n",
       "1       Aberlour      4\n",
       "11      Belvenie      3\n",
       "14     Benrinnes      3\n",
       "0      Aberfeldy      2\n",
       "62      Macallan      2\n",
       "..           ...    ...\n",
       "68   OldPulteney      0\n",
       "40      GlenSpey      0\n",
       "66          Oban      0\n",
       "45   Glenfiddich      0\n",
       "85  Tullibardine      0\n",
       "\n",
       "[86 rows x 2 columns]"
      ]
     },
     "execution_count": 9,
     "metadata": {},
     "output_type": "execute_result"
    }
   ],
   "source": [
    "df[['Distillery', 'Honey']].groupby(['Distillery'], as_index=False).mean().sort_values(by='Honey', ascending=False)"
   ]
  },
  {
   "cell_type": "code",
   "execution_count": null,
   "metadata": {},
   "outputs": [],
   "source": []
  },
  {
   "cell_type": "code",
   "execution_count": 10,
   "metadata": {},
   "outputs": [
    {
     "data": {
      "text/plain": [
       "0    76\n",
       "1    10\n",
       "Name: Tobacco, dtype: int64"
      ]
     },
     "execution_count": 10,
     "metadata": {},
     "output_type": "execute_result"
    }
   ],
   "source": [
    "df['Tobacco'].value_counts()"
   ]
  },
  {
   "cell_type": "code",
   "execution_count": 11,
   "metadata": {},
   "outputs": [
    {
     "data": {
      "text/plain": [
       "2    43\n",
       "1    27\n",
       "0    12\n",
       "3     3\n",
       "4     1\n",
       "Name: Nutty, dtype: int64"
      ]
     },
     "execution_count": 11,
     "metadata": {},
     "output_type": "execute_result"
    }
   ],
   "source": [
    "df['Nutty'].value_counts()"
   ]
  },
  {
   "cell_type": "code",
   "execution_count": 12,
   "metadata": {},
   "outputs": [
    {
     "data": {
      "text/plain": [
       "0    59\n",
       "1    15\n",
       "2     7\n",
       "4     3\n",
       "3     2\n",
       "Name: Medicinal, dtype: int64"
      ]
     },
     "execution_count": 12,
     "metadata": {},
     "output_type": "execute_result"
    }
   ],
   "source": [
    "df['Medicinal'].value_counts()"
   ]
  },
  {
   "cell_type": "markdown",
   "metadata": {},
   "source": [
    " Often, it is better to train your model with only significant features than to train it with all the features, \n",
    "including unnecessary ones.\n",
    "It not only helps in efficient modelling, but also the training of the model can happen in much lesser time.\n",
    "\n",
    "For this task, we want to focus on the factors that influence the taste of wine. Know that the features \n",
    "RowID,Latitude and Longitude (The coordinates are summarised by a postcode)\n",
    "can be dropped and they will not have significant impact on the training of the K-Means model."
   ]
  },
  {
   "cell_type": "code",
   "execution_count": 13,
   "metadata": {},
   "outputs": [],
   "source": [
    "df = df.drop(['RowID','Latitude','Longitude','Postcode'], axis=1)"
   ]
  },
  {
   "cell_type": "markdown",
   "metadata": {},
   "source": [
    "Now that the dropping part is done let's convert the 'Postcode' and 'Distillery' features to numerical ones (only these two are remaining now which are non-numeric feature).\n",
    "You will do this using a technique called Label Encoding."
   ]
  },
  {
   "cell_type": "code",
   "execution_count": 14,
   "metadata": {},
   "outputs": [],
   "source": [
    "labelEncoder = LabelEncoder()\n",
    "labelEncoder.fit(df['Distillery'])\n",
    "\n",
    "df['Distillery'] = labelEncoder.transform(df['Distillery'])\n",
    "\n",
    "\n"
   ]
  },
  {
   "cell_type": "markdown",
   "metadata": {},
   "source": [
    "You might be thinking that since it is a labeled dataset, how could it be used for a clustering task?\n",
    "Drop the 'Distillery' column from the dataset and make it unlabeled.\n",
    "Leave the columns that will be used to cluster the wines based on the taste features.\n",
    "It's the task of K-Means to cluster the records of the datasets.\n"
   ]
  },
  {
   "cell_type": "code",
   "execution_count": 16,
   "metadata": {},
   "outputs": [],
   "source": [
    "from sklearn.decomposition import KernelPCA\n",
    "np.random.seed(42)\n",
    "rbf_pca= KernelPCA(n_components=2, kernel='rbf')\n",
    "X_reduced= rbf_pca.fit_transform(df)"
   ]
  },
  {
   "cell_type": "code",
   "execution_count": 17,
   "metadata": {},
   "outputs": [
    {
     "data": {
      "image/png": "[encoded data removed]",
      "text/plain": [
       "<Figure size 432x288 with 1 Axes>"
      ]
     },
     "metadata": {
      "needs_background": "light"
     },
     "output_type": "display_data"
    }
   ],
   "source": [
    "x=X_reduced[:,0]\n",
    "y=X_reduced[:,1]\n",
    "\n",
    "plt.scatter(x, y)\n",
    "plt.title('transformed features')\n",
    "plt.show()"
   ]
  },
  {
   "cell_type": "markdown",
   "metadata": {},
   "source": [
    "## Split the data"
   ]
  },
  {
   "cell_type": "code",
   "execution_count": 18,
   "metadata": {},
   "outputs": [
    {
     "data": {
      "image/png": "[encoded data removed]",
      "text/plain": [
       "<Figure size 720x576 with 1 Axes>"
      ]
     },
     "metadata": {
      "needs_background": "light"
     },
     "output_type": "display_data"
    }
   ],
   "source": [
    "wcss = []\n",
    "for i in range(1, 12):\n",
    "    kmeans = KMeans(n_clusters=i, init='k-means++', max_iter=300, n_init=10, random_state=0)\n",
    "    kmeans.fit(X_reduced)\n",
    "    wcss.append(kmeans.inertia_)\n",
    "\n",
    "fig = plt.figure(figsize=(10,8))\n",
    "plt.plot(range(1, 12), wcss)\n",
    "plt.title('Elbow Method')\n",
    "plt.xlabel('Number of clusters')\n",
    "plt.ylabel('WCSS')\n",
    "plt.show()"
   ]
  },
  {
   "cell_type": "code",
   "execution_count": 19,
   "metadata": {},
   "outputs": [
    {
     "data": {
      "image/png": "[encoded data removed]",
      "text/plain": [
       "<Figure size 432x288 with 1 Axes>"
      ]
     },
     "metadata": {
      "needs_background": "light"
     },
     "output_type": "display_data"
    }
   ],
   "source": [
    "\n",
    "from sklearn.metrics import silhouette_score\n",
    "sil_scores=[]\n",
    "for clusters in range(2,10):\n",
    "    km= KMeans(n_clusters=clusters, random_state=42)\n",
    "    km.fit(X_reduced)\n",
    "    labels= km.predict(X_reduced)\n",
    "    \n",
    "    #silhouette score\n",
    "    sil_score= silhouette_score(X_reduced, labels)   \n",
    "    sil_scores.append(sil_score)\n",
    "    \n",
    "sns.barplot(x=list(range(2,10)), y=sil_scores)\n",
    "plt.title('Score for number cluster')\n",
    "plt.xlabel('Number of clusters')\n",
    "plt.ylabel('Silhouette score')\n",
    "plt.show()"
   ]
  },
  {
   "cell_type": "code",
   "execution_count": 23,
   "metadata": {},
   "outputs": [
    {
     "data": {
      "text/plain": [
       "60"
      ]
     },
     "execution_count": 23,
     "metadata": {},
     "output_type": "execute_result"
    }
   ],
   "source": [
    "len(X_train)"
   ]
  },
  {
   "cell_type": "markdown",
   "metadata": {},
   "source": [
    "### Use the elbow  method to find the optimal number of clusters."
   ]
  },
  {
   "cell_type": "markdown",
   "metadata": {},
   "source": [
    "*The graph above shows that the optimalnumber of clusters is 9*"
   ]
  },
  {
   "cell_type": "markdown",
   "metadata": {},
   "source": [
    "### Looks like you are good to go to train your K-Means model now."
   ]
  },
  {
   "cell_type": "code",
   "execution_count": 24,
   "metadata": {},
   "outputs": [
    {
     "data": {
      "text/plain": [
       "KMeans(algorithm='auto', copy_x=True, init='k-means++', max_iter=300,\n",
       "       n_clusters=9, n_init=10, n_jobs=None, precompute_distances='auto',\n",
       "       random_state=None, tol=0.0001, verbose=0)"
      ]
     },
     "execution_count": 24,
     "metadata": {},
     "output_type": "execute_result"
    }
   ],
   "source": [
    "kmeans = KMeans(n_clusters=9) \n",
    "kmeans.fit(X_train)"
   ]
  },
  {
   "cell_type": "code",
   "execution_count": 25,
   "metadata": {},
   "outputs": [
    {
     "data": {
      "text/plain": [
       "array([[2, 2, 1, 1, 0, 1, 2, 0, 2, 1, 2, 2],\n",
       "       [2, 3, 1, 0, 0, 1, 1, 2, 1, 2, 2, 0],\n",
       "       [3, 1, 4, 2, 1, 0, 2, 0, 2, 1, 1, 1],\n",
       "       [2, 3, 1, 0, 0, 1, 1, 2, 0, 1, 3, 2],\n",
       "       [2, 3, 1, 1, 1, 1, 1, 2, 0, 2, 0, 1],\n",
       "       [2, 3, 1, 0, 0, 2, 2, 2, 2, 2, 1, 2],\n",
       "       [2, 3, 1, 0, 0, 1, 2, 1, 2, 1, 2, 1],\n",
       "       [1, 2, 1, 0, 0, 1, 2, 1, 2, 2, 2, 4],\n",
       "       [2, 3, 1, 0, 0, 0, 2, 0, 2, 1, 3, 2],\n",
       "       [4, 3, 2, 0, 0, 2, 1, 3, 3, 0, 1, 2],\n",
       "       [2, 2, 2, 1, 0, 0, 2, 0, 0, 0, 2, 2],\n",
       "       [2, 2, 1, 1, 0, 2, 1, 1, 2, 2, 2, 2],\n",
       "       [2, 2, 2, 0, 0, 2, 1, 0, 1, 2, 2, 2],\n",
       "       [2, 2, 1, 0, 0, 2, 1, 1, 1, 3, 2, 1],\n",
       "       [2, 3, 1, 0, 0, 2, 1, 1, 4, 2, 2, 2],\n",
       "       [1, 2, 1, 0, 0, 0, 1, 1, 0, 2, 2, 3],\n",
       "       [3, 2, 1, 0, 0, 1, 1, 1, 3, 3, 2, 3],\n",
       "       [3, 3, 1, 0, 0, 4, 3, 2, 2, 3, 3, 2],\n",
       "       [2, 2, 2, 2, 0, 0, 2, 0, 2, 2, 2, 0],\n",
       "       [2, 2, 1, 0, 0, 2, 2, 2, 3, 3, 3, 2],\n",
       "       [4, 1, 4, 4, 0, 0, 2, 0, 1, 2, 1, 0],\n",
       "       [1, 2, 0, 0, 0, 1, 0, 1, 2, 1, 2, 1],\n",
       "       [1, 2, 1, 0, 0, 2, 0, 1, 1, 2, 2, 2],\n",
       "       [1, 3, 1, 1, 0, 2, 2, 0, 1, 2, 1, 2],\n",
       "       [1, 2, 0, 0, 0, 1, 1, 1, 2, 2, 3, 2],\n",
       "       [2, 2, 2, 0, 0, 1, 1, 1, 2, 3, 1, 1],\n",
       "       [3, 2, 1, 0, 0, 1, 2, 1, 1, 2, 2, 2],\n",
       "       [1, 3, 2, 0, 0, 0, 2, 0, 2, 1, 2, 3],\n",
       "       [2, 3, 2, 1, 0, 0, 2, 0, 2, 1, 2, 1],\n",
       "       [2, 1, 3, 0, 0, 0, 3, 1, 0, 2, 2, 2],\n",
       "       [2, 3, 2, 1, 1, 1, 2, 1, 0, 2, 3, 2],\n",
       "       [4, 2, 3, 3, 0, 1, 3, 0, 1, 2, 2, 0],\n",
       "       [2, 2, 3, 1, 0, 2, 1, 1, 1, 2, 1, 1],\n",
       "       [2, 2, 1, 0, 0, 1, 0, 1, 2, 2, 2, 2],\n",
       "       [2, 2, 2, 0, 1, 2, 2, 1, 2, 2, 1, 4],\n",
       "       [2, 3, 1, 0, 0, 2, 2, 1, 2, 1, 2, 2],\n",
       "       [2, 3, 1, 1, 0, 1, 1, 1, 0, 1, 1, 2],\n",
       "       [2, 1, 1, 0, 0, 1, 1, 1, 2, 1, 2, 2],\n",
       "       [3, 2, 2, 0, 0, 2, 2, 2, 2, 2, 3, 1],\n",
       "       [1, 1, 1, 1, 0, 1, 1, 0, 1, 2, 1, 2],\n",
       "       [1, 1, 2, 2, 0, 2, 2, 1, 2, 2, 2, 2],\n",
       "       [0, 2, 0, 0, 0, 1, 1, 0, 2, 2, 3, 3],\n",
       "       [2, 1, 2, 2, 0, 1, 1, 0, 2, 1, 1, 1],\n",
       "       [2, 2, 2, 0, 0, 2, 1, 2, 2, 2, 2, 2],\n",
       "       [2, 4, 1, 0, 0, 1, 2, 3, 2, 3, 2, 2],\n",
       "       [2, 3, 1, 0, 0, 2, 1, 2, 2, 2, 2, 1],\n",
       "       [2, 3, 1, 0, 0, 2, 2, 2, 1, 2, 2, 3],\n",
       "       [2, 2, 1, 0, 0, 1, 0, 1, 2, 1, 0, 0],\n",
       "       [2, 2, 2, 2, 0, 1, 0, 1, 2, 2, 1, 1],\n",
       "       [2, 2, 1, 0, 0, 1, 0, 0, 2, 2, 2, 2],\n",
       "       [4, 2, 2, 0, 0, 2, 1, 4, 2, 2, 2, 0],\n",
       "       [2, 4, 1, 0, 0, 2, 1, 0, 0, 2, 1, 2],\n",
       "       [1, 1, 1, 0, 0, 1, 0, 0, 1, 2, 2, 2],\n",
       "       [3, 2, 2, 0, 0, 3, 1, 1, 2, 3, 2, 2],\n",
       "       [4, 1, 4, 4, 1, 0, 1, 2, 1, 1, 1, 0],\n",
       "       [3, 2, 3, 3, 1, 0, 2, 0, 1, 1, 2, 0],\n",
       "       [1, 2, 2, 0, 1, 2, 2, 1, 2, 3, 1, 1],\n",
       "       [2, 3, 2, 1, 0, 0, 1, 0, 2, 2, 2, 2],\n",
       "       [2, 1, 2, 2, 1, 0, 1, 1, 2, 2, 2, 2],\n",
       "       [1, 2, 1, 0, 0, 1, 2, 0, 0, 2, 2, 2]])"
      ]
     },
     "execution_count": 25,
     "metadata": {},
     "output_type": "execute_result"
    }
   ],
   "source": [
    "X_train"
   ]
  },
  {
   "cell_type": "code",
   "execution_count": 26,
   "metadata": {},
   "outputs": [
    {
     "data": {
      "image/png": "[encoded data removed]",
      "text/plain": [
       "<Figure size 432x288 with 1 Axes>"
      ]
     },
     "metadata": {
      "needs_background": "light"
     },
     "output_type": "display_data"
    }
   ],
   "source": [
    "kmeans = KMeans(n_clusters=9, init='k-means++', max_iter=300, n_init=10, random_state=0)\n",
    "pred_y = kmeans.fit_predict(X_train)\n",
    "plt.scatter(X_train[:,3], X_train[:,7])\n",
    "plt.scatter(kmeans.cluster_centers_[:, 0], kmeans.cluster_centers_[:, 1], s=300, c='red')\n",
    "plt.show()"
   ]
  },
  {
   "cell_type": "code",
   "execution_count": 27,
   "metadata": {},
   "outputs": [
    {
     "name": "stdout",
     "output_type": "stream",
     "text": [
      "0.0\n"
     ]
    }
   ],
   "source": [
    "correct = 0\n",
    "for i in range(len(X_train)):\n",
    "    predict_me = np.array(X_train[i].astype(float))\n",
    "    predict_me = predict_me.reshape(-1, len(predict_me))\n",
    "    prediction = kmeans.predict(predict_me)\n",
    "    if prediction[0] == y_train[i]:\n",
    "        correct += 1\n",
    "\n",
    "print(correct/len(X))"
   ]
  },
  {
   "cell_type": "code",
   "execution_count": 28,
   "metadata": {},
   "outputs": [
    {
     "ename": "SyntaxError",
     "evalue": "invalid character in identifier (<ipython-input-28-f0e2168c8902>, line 1)",
     "output_type": "error",
     "traceback": [
      "\u001b[0;36m  File \u001b[0;32m\"<ipython-input-28-f0e2168c8902>\"\u001b[0;36m, line \u001b[0;32m1\u001b[0m\n\u001b[0;31m    Next, we’ll categorize the data using the optimum number of clusters (4) we determined in the last step.\u001b[0m\n\u001b[0m              ^\u001b[0m\n\u001b[0;31mSyntaxError\u001b[0m\u001b[0;31m:\u001b[0m invalid character in identifier\n"
     ]
    }
   ],
   "source": [
    "Next, we’ll categorize the data using the optimum number of clusters (4) we determined in the last step. \n",
    "k-means++ ensures that you get don’t fall into the random initialization trap."
   ]
  },
  {
   "cell_type": "markdown",
   "metadata": {},
   "source": [
    "The data set is dataframe of 86 datapoints and 17 features for each data point."
   ]
  },
  {
   "cell_type": "markdown",
   "metadata": {},
   "source": []
  }
 ],
 "metadata": {
  "kernelspec": {
   "display_name": "Python 3",
   "language": "python",
   "name": "python3"
  },
  "language_info": {
   "codemirror_mode": {
    "name": "ipython",
    "version": 3
   },
   "file_extension": ".py",
   "mimetype": "text/x-python",
   "name": "python",
   "nbconvert_exporter": "python",
   "pygments_lexer": "ipython3",
   "version": "3.7.4"
  }
 },
 "nbformat": 4,
 "nbformat_minor": 2
}
